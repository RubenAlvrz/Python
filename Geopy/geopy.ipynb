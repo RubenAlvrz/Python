{
 "cells": [
  {
   "cell_type": "code",
   "execution_count": 5,
   "metadata": {},
   "outputs": [
    {
     "data": {
      "text/html": [
       "<div>\n",
       "<style scoped>\n",
       "    .dataframe tbody tr th:only-of-type {\n",
       "        vertical-align: middle;\n",
       "    }\n",
       "\n",
       "    .dataframe tbody tr th {\n",
       "        vertical-align: top;\n",
       "    }\n",
       "\n",
       "    .dataframe thead th {\n",
       "        text-align: right;\n",
       "    }\n",
       "</style>\n",
       "<table border=\"1\" class=\"dataframe\">\n",
       "  <thead>\n",
       "    <tr style=\"text-align: right;\">\n",
       "      <th></th>\n",
       "      <th>latitude</th>\n",
       "      <th>longitude</th>\n",
       "    </tr>\n",
       "  </thead>\n",
       "  <tbody>\n",
       "    <tr>\n",
       "      <th>Houston</th>\n",
       "      <td>29.758938</td>\n",
       "      <td>-95.367697</td>\n",
       "    </tr>\n",
       "    <tr>\n",
       "      <th>Dallas</th>\n",
       "      <td>32.776272</td>\n",
       "      <td>-96.796856</td>\n",
       "    </tr>\n",
       "    <tr>\n",
       "      <th>San Antonio</th>\n",
       "      <td>29.424600</td>\n",
       "      <td>-98.495141</td>\n",
       "    </tr>\n",
       "    <tr>\n",
       "      <th>Katy</th>\n",
       "      <td>29.785785</td>\n",
       "      <td>-95.824396</td>\n",
       "    </tr>\n",
       "  </tbody>\n",
       "</table>\n",
       "</div>"
      ],
      "text/plain": [
       "              latitude  longitude\n",
       "Houston      29.758938 -95.367697\n",
       "Dallas       32.776272 -96.796856\n",
       "San Antonio  29.424600 -98.495141\n",
       "Katy         29.785785 -95.824396"
      ]
     },
     "execution_count": 5,
     "metadata": {},
     "output_type": "execute_result"
    }
   ],
   "source": [
    "#Import library\n",
    "from geopy.geocoders import Nominatim\n",
    "import pandas as pd\n",
    "\n",
    "\n",
    "def get_lat_long(area):\n",
    "    \"\"\"\n",
    "    Use the geolocator to get lat & long \n",
    "    of location \n",
    "    \"\"\"\n",
    "    geolocator = Nominatim(timeout=5, user_agent = \"myGeolocator\")\n",
    "    #get location\n",
    "    location = geolocator.geocode(area)\n",
    "    #get latitude\n",
    "    latitude = location.latitude\n",
    "    #get longitude\n",
    "    longitude = location.longitude\n",
    "\n",
    "    return latitude,longitude\n",
    "\n",
    "#Create a List of cities\n",
    "city = ['Houston', 'Dallas', 'San Antonio', 'Katy']\n",
    "\n",
    "# Create a list for lat & long\n",
    "lat = []\n",
    "\n",
    "long = []\n",
    "# Create a for loop over the list city\n",
    "for i in city:\n",
    "    get_lat_long(i)[0]\n",
    "    get_lat_long(i)[1]\n",
    "\n",
    "    v1,v2 = get_lat_long(i)\n",
    "    \n",
    "    #Append to the list lat and long \n",
    "    lat.append(v1)\n",
    "    long.append(v2)\n",
    "\n",
    "    #create a list of tuples.\n",
    "    data = list(zip(lat,long))\n",
    "\n",
    "\n",
    "# create a data frame with city and lat/long\n",
    "lat_long = pd.DataFrame(data, columns = ['latitude','longitude'], index= city)\n",
    "\n",
    "lat_long\n",
    "    "
   ]
  },
  {
   "cell_type": "code",
   "execution_count": null,
   "metadata": {},
   "outputs": [],
   "source": []
  }
 ],
 "metadata": {
  "interpreter": {
   "hash": "0368ea860925f106338671ba536c0e22f5c9e9b0f654a9f0c1791c991c54e103"
  },
  "kernelspec": {
   "display_name": "Python 3.8.11 32-bit ('base': conda)",
   "name": "python3"
  },
  "language_info": {
   "codemirror_mode": {
    "name": "ipython",
    "version": 3
   },
   "file_extension": ".py",
   "mimetype": "text/x-python",
   "name": "python",
   "nbconvert_exporter": "python",
   "pygments_lexer": "ipython3",
   "version": "3.8.11"
  },
  "orig_nbformat": 4
 },
 "nbformat": 4,
 "nbformat_minor": 2
}
